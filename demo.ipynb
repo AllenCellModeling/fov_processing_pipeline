{
 "cells": [
  {
   "cell_type": "code",
   "execution_count": 1,
   "metadata": {},
   "outputs": [],
   "source": [
    "import fov_processing_pipeline as fpp\n",
    "from fov_processing_pipeline import data\n"
   ]
  },
  {
   "cell_type": "code",
   "execution_count": 2,
   "metadata": {},
   "outputs": [
    {
     "ename": "TypeError",
     "evalue": "SeedSequence expects int or sequence of ints for entropy not nan",
     "output_type": "error",
     "traceback": [
      "\u001b[0;31m---------------------------------------------------------------------------\u001b[0m",
      "\u001b[0;31mTypeError\u001b[0m                                 Traceback (most recent call last)",
      "\u001b[0;32m<ipython-input-2-a142aef22b7c>\u001b[0m in \u001b[0;36m<module>\u001b[0;34m\u001b[0m\n\u001b[0;32m----> 1\u001b[0;31m \u001b[0mdata\u001b[0m \u001b[0;34m=\u001b[0m \u001b[0mdata\u001b[0m\u001b[0;34m.\u001b[0m\u001b[0mget_cell_data\u001b[0m\u001b[0;34m(\u001b[0m\u001b[0;34m)\u001b[0m\u001b[0;34m\u001b[0m\u001b[0;34m\u001b[0m\u001b[0m\n\u001b[0m",
      "\u001b[0;32m/allen/aics/modeling/gregj/projects/fov_processing_pipeline/fov_processing_pipeline/data.py\u001b[0m in \u001b[0;36mget_cell_data\u001b[0;34m(is_local)\u001b[0m\n\u001b[1;32m    145\u001b[0m     \u001b[0;32mfor\u001b[0m \u001b[0mid_column\u001b[0m \u001b[0;32min\u001b[0m \u001b[0mid_columns\u001b[0m\u001b[0;34m:\u001b[0m\u001b[0;34m\u001b[0m\u001b[0;34m\u001b[0m\u001b[0m\n\u001b[1;32m    146\u001b[0m         cell_data[\"{}_rng\".format(id_column)] = [\n\u001b[0;32m--> 147\u001b[0;31m             \u001b[0mint2rand\u001b[0m\u001b[0;34m(\u001b[0m\u001b[0mmy_id\u001b[0m\u001b[0;34m)\u001b[0m \u001b[0;32mfor\u001b[0m \u001b[0mmy_id\u001b[0m \u001b[0;32min\u001b[0m \u001b[0mcell_data\u001b[0m\u001b[0;34m[\u001b[0m\u001b[0mid_column\u001b[0m\u001b[0;34m]\u001b[0m\u001b[0;34m\u001b[0m\u001b[0;34m\u001b[0m\u001b[0m\n\u001b[0m\u001b[1;32m    148\u001b[0m         ]\n\u001b[1;32m    149\u001b[0m \u001b[0;34m\u001b[0m\u001b[0m\n",
      "\u001b[0;32m/allen/aics/modeling/gregj/projects/fov_processing_pipeline/fov_processing_pipeline/data.py\u001b[0m in \u001b[0;36m<listcomp>\u001b[0;34m(.0)\u001b[0m\n\u001b[1;32m    145\u001b[0m     \u001b[0;32mfor\u001b[0m \u001b[0mid_column\u001b[0m \u001b[0;32min\u001b[0m \u001b[0mid_columns\u001b[0m\u001b[0;34m:\u001b[0m\u001b[0;34m\u001b[0m\u001b[0;34m\u001b[0m\u001b[0m\n\u001b[1;32m    146\u001b[0m         cell_data[\"{}_rng\".format(id_column)] = [\n\u001b[0;32m--> 147\u001b[0;31m             \u001b[0mint2rand\u001b[0m\u001b[0;34m(\u001b[0m\u001b[0mmy_id\u001b[0m\u001b[0;34m)\u001b[0m \u001b[0;32mfor\u001b[0m \u001b[0mmy_id\u001b[0m \u001b[0;32min\u001b[0m \u001b[0mcell_data\u001b[0m\u001b[0;34m[\u001b[0m\u001b[0mid_column\u001b[0m\u001b[0;34m]\u001b[0m\u001b[0;34m\u001b[0m\u001b[0;34m\u001b[0m\u001b[0m\n\u001b[0m\u001b[1;32m    148\u001b[0m         ]\n\u001b[1;32m    149\u001b[0m \u001b[0;34m\u001b[0m\u001b[0m\n",
      "\u001b[0;32m/allen/aics/modeling/gregj/projects/fov_processing_pipeline/fov_processing_pipeline/utils.py\u001b[0m in \u001b[0;36mint2rand\u001b[0;34m(id)\u001b[0m\n\u001b[1;32m      4\u001b[0m \u001b[0;32mdef\u001b[0m \u001b[0mint2rand\u001b[0m\u001b[0;34m(\u001b[0m\u001b[0mid\u001b[0m\u001b[0;34m)\u001b[0m\u001b[0;34m:\u001b[0m\u001b[0;34m\u001b[0m\u001b[0;34m\u001b[0m\u001b[0m\n\u001b[1;32m      5\u001b[0m     \u001b[0;31m# psuedorandomly deterministically convert an ID (integer) to a random number between 0 and 1\u001b[0m\u001b[0;34m\u001b[0m\u001b[0;34m\u001b[0m\u001b[0;34m\u001b[0m\u001b[0m\n\u001b[0;32m----> 6\u001b[0;31m     \u001b[0mrg\u001b[0m \u001b[0;34m=\u001b[0m \u001b[0mGenerator\u001b[0m\u001b[0;34m(\u001b[0m\u001b[0mPCG64\u001b[0m\u001b[0;34m(\u001b[0m\u001b[0mid\u001b[0m\u001b[0;34m)\u001b[0m\u001b[0;34m)\u001b[0m\u001b[0;34m\u001b[0m\u001b[0;34m\u001b[0m\u001b[0m\n\u001b[0m\u001b[1;32m      7\u001b[0m     \u001b[0;32mreturn\u001b[0m \u001b[0mrg\u001b[0m\u001b[0;34m.\u001b[0m\u001b[0mrandom\u001b[0m\u001b[0;34m(\u001b[0m\u001b[0;34m)\u001b[0m\u001b[0;34m\u001b[0m\u001b[0;34m\u001b[0m\u001b[0m\n",
      "\u001b[0;32mpcg64.pyx\u001b[0m in \u001b[0;36mnumpy.random.pcg64.PCG64.__init__\u001b[0;34m()\u001b[0m\n",
      "\u001b[0;32mbit_generator.pyx\u001b[0m in \u001b[0;36mnumpy.random.bit_generator.BitGenerator.__init__\u001b[0;34m()\u001b[0m\n",
      "\u001b[0;32mbit_generator.pyx\u001b[0m in \u001b[0;36mnumpy.random.bit_generator.SeedSequence.__init__\u001b[0;34m()\u001b[0m\n",
      "\u001b[0;31mTypeError\u001b[0m: SeedSequence expects int or sequence of ints for entropy not nan"
     ]
    }
   ],
   "source": [
    "fov_data = data.get_fov_data()\n"
   ]
  },
  {
   "cell_type": "code",
   "execution_count": 32,
   "metadata": {},
   "outputs": [
    {
     "data": {
      "text/plain": [
       "['CellIndex',\n",
       " 'CellId',\n",
       " 'CellLine',\n",
       " 'CellPopulationId',\n",
       " 'CellLineId',\n",
       " 'CellLineId/Name',\n",
       " 'mito_state_binary',\n",
       " 'mito_state_binary_ind',\n",
       " 'mito_state_resolved',\n",
       " 'mito_state_resolved_ind']"
      ]
     },
     "execution_count": 32,
     "metadata": {},
     "output_type": "execute_result"
    }
   ],
   "source": []
  },
  {
   "cell_type": "code",
   "execution_count": 22,
   "metadata": {},
   "outputs": [
    {
     "ename": "NameError",
     "evalue": "name 'utils' is not defined",
     "output_type": "error",
     "traceback": [
      "\u001b[0;31m---------------------------------------------------------------------------\u001b[0m",
      "\u001b[0;31mNameError\u001b[0m                                 Traceback (most recent call last)",
      "\u001b[0;32m<ipython-input-22-1cbee6679333>\u001b[0m in \u001b[0;36m<module>\u001b[0;34m\u001b[0m\n\u001b[1;32m      2\u001b[0m \u001b[0;34m\u001b[0m\u001b[0m\n\u001b[1;32m      3\u001b[0m \u001b[0;32mfor\u001b[0m \u001b[0mid_column\u001b[0m \u001b[0;32min\u001b[0m \u001b[0mid_columns\u001b[0m\u001b[0;34m:\u001b[0m\u001b[0;34m\u001b[0m\u001b[0;34m\u001b[0m\u001b[0m\n\u001b[0;32m----> 4\u001b[0;31m     \u001b[0;34m[\u001b[0m\u001b[0mutils\u001b[0m\u001b[0;34m.\u001b[0m\u001b[0mint2rand\u001b[0m\u001b[0;34m(\u001b[0m\u001b[0mid\u001b[0m\u001b[0;34m)\u001b[0m \u001b[0;32mfor\u001b[0m \u001b[0mid\u001b[0m \u001b[0;32min\u001b[0m \u001b[0mdata\u001b[0m\u001b[0;34m[\u001b[0m\u001b[0mid_column\u001b[0m\u001b[0;34m]\u001b[0m\u001b[0;34m]\u001b[0m\u001b[0;34m\u001b[0m\u001b[0;34m\u001b[0m\u001b[0m\n\u001b[0m",
      "\u001b[0;32m<ipython-input-22-1cbee6679333>\u001b[0m in \u001b[0;36m<listcomp>\u001b[0;34m(.0)\u001b[0m\n\u001b[1;32m      2\u001b[0m \u001b[0;34m\u001b[0m\u001b[0m\n\u001b[1;32m      3\u001b[0m \u001b[0;32mfor\u001b[0m \u001b[0mid_column\u001b[0m \u001b[0;32min\u001b[0m \u001b[0mid_columns\u001b[0m\u001b[0;34m:\u001b[0m\u001b[0;34m\u001b[0m\u001b[0;34m\u001b[0m\u001b[0m\n\u001b[0;32m----> 4\u001b[0;31m     \u001b[0;34m[\u001b[0m\u001b[0mutils\u001b[0m\u001b[0;34m.\u001b[0m\u001b[0mint2rand\u001b[0m\u001b[0;34m(\u001b[0m\u001b[0mid\u001b[0m\u001b[0;34m)\u001b[0m \u001b[0;32mfor\u001b[0m \u001b[0mid\u001b[0m \u001b[0;32min\u001b[0m \u001b[0mdata\u001b[0m\u001b[0;34m[\u001b[0m\u001b[0mid_column\u001b[0m\u001b[0;34m]\u001b[0m\u001b[0;34m]\u001b[0m\u001b[0;34m\u001b[0m\u001b[0;34m\u001b[0m\u001b[0m\n\u001b[0m",
      "\u001b[0;31mNameError\u001b[0m: name 'utils' is not defined"
     ]
    }
   ],
   "source": [
    "id_columns = [column for column in data.columns if column[-2:] == \"Id\"]\n",
    "\n",
    "for id_column in id_columns:\n",
    "    data[\"{}_rng\".format(id_column)] = [utils.int2rand(id) for id in data[id_column]]"
   ]
  },
  {
   "cell_type": "code",
   "execution_count": 27,
   "metadata": {},
   "outputs": [
    {
     "data": {
      "text/plain": [
       "Index(['ProteinDisplayName', 'WorkflowId', 'NucleusSegmentationFilename',\n",
       "       'NucMembSegmentationAlgorithm', 'StructureContourFilename', 'CellIndex',\n",
       "       'Gene', 'MembraneContourFilename', 'WellId', 'StructureShortName',\n",
       "       'NucMembSegmentationAlgorithmVersion', 'WellName', 'Workflow',\n",
       "       'ColonyPosition', 'MembraneSegmentationFilename', 'CellId',\n",
       "       'ChannelNumberStruct', 'Passage', 'NucleusContourReadPath',\n",
       "       'InstrumentId', 'Protein', 'PixelScaleZ', 'Objective',\n",
       "       'StructureSegmentationAlgorithm', 'PixelScaleX', 'PixelScaleY',\n",
       "       'CellLine', 'NucleusContourFilename', 'MembraneSegmentationReadPath',\n",
       "       'Row', 'CellPopulationId', 'StructureId', 'MembraneContourReadPath',\n",
       "       'StructureSegmentationReadPath', 'NucleusSegmentationReadPath',\n",
       "       'CellLineId', 'StructureContourReadPath', 'ChannelNumber405',\n",
       "       'SourceFilename', 'FOVId', 'RunId', 'Structure', 'Clone', 'Col',\n",
       "       'StructureDisplayName', 'DataSetId', 'StructureSegmentationFilename',\n",
       "       'ChannelNumber638', 'ChannelNumberBrightfield', 'PlateId',\n",
       "       'SourceReadPath', 'StructureId/Name', 'CellLineId/Name',\n",
       "       'ProteinId/Name', 'mito_state_binary', 'mito_state_binary_ind',\n",
       "       'mito_state_resolved', 'mito_state_resolved_ind'],\n",
       "      dtype='object')"
      ]
     },
     "execution_count": 27,
     "metadata": {},
     "output_type": "execute_result"
    }
   ],
   "source": [
    "cell_data_tmp.columns"
   ]
  },
  {
   "cell_type": "code",
   "execution_count": null,
   "metadata": {},
   "outputs": [],
   "source": []
  }
 ],
 "metadata": {
  "kernelspec": {
   "display_name": "Python [conda env:fov_processing_pipeline]",
   "language": "python",
   "name": "conda-env-fov_processing_pipeline-py"
  },
  "language_info": {
   "codemirror_mode": {
    "name": "ipython",
    "version": 3
   },
   "file_extension": ".py",
   "mimetype": "text/x-python",
   "name": "python",
   "nbconvert_exporter": "python",
   "pygments_lexer": "ipython3",
   "version": "3.7.3"
  }
 },
 "nbformat": 4,
 "nbformat_minor": 2
}
